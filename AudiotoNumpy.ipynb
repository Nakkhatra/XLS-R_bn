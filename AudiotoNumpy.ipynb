{
 "cells": [
  {
   "cell_type": "markdown",
   "metadata": {},
   "source": [
    "#### Import the libraries"
   ]
  },
  {
   "cell_type": "code",
   "execution_count": null,
   "metadata": {},
   "outputs": [],
   "source": [
    "!pip install pydub\n",
    "!pip install librosa"
   ]
  },
  {
   "cell_type": "markdown",
   "metadata": {},
   "source": [
    "#### Function to convert .mp3 to np array"
   ]
  },
  {
   "cell_type": "code",
   "execution_count": 2,
   "metadata": {},
   "outputs": [],
   "source": [
    "import librosa \n",
    "\n",
    "def audiotonp(filepath):\n",
    "    try:\n",
    "        y, s = librosa.load(f'corpus/clips/{filepath}', sr=16000)\n",
    "        return y\n",
    "\n",
    "    except Exception as e:\n",
    "        y = None\n",
    "        print(e, filepath)\n",
    "        return y"
   ]
  },
  {
   "cell_type": "markdown",
   "metadata": {},
   "source": [
    "#### Reading the tsv files and creating the dataframes "
   ]
  },
  {
   "cell_type": "code",
   "execution_count": 3,
   "metadata": {},
   "outputs": [],
   "source": [
    "import pandas as pd \n",
    "\n",
    "train = pd.read_csv('bengaliAI_tsv/train.tsv', sep = '\\t')\n",
    "val = pd.read_csv('bengaliAI_tsv/dev.tsv', sep = '\\t')\n",
    "test = pd.read_csv('bengaliAI_tsv/test.tsv', sep = '\\t')"
   ]
  },
  {
   "cell_type": "markdown",
   "metadata": {},
   "source": [
    "#### Another way of multiprocessing (Not using this time)"
   ]
  },
  {
   "cell_type": "code",
   "execution_count": 5,
   "metadata": {},
   "outputs": [],
   "source": [
    "# from multiprocessing import Pool \n",
    "# import numpy as np\n",
    "\n",
    "# def p_apply(df, func, cores = 10):\n",
    "#     pool = Pool(cores)\n",
    "#     res = pool.map(func, df.to_numpy())\n",
    "#     pool.close()\n",
    "#     pool.join()\n",
    "#     return res "
   ]
  },
  {
   "cell_type": "markdown",
   "metadata": {},
   "source": [
    "#### Multiprocessing pandas for speeding  up the .apply method"
   ]
  },
  {
   "cell_type": "code",
   "execution_count": 4,
   "metadata": {},
   "outputs": [
    {
     "name": "stdout",
     "output_type": "stream",
     "text": [
      "Requirement already satisfied: multiprocesspandas in /home/beast/miniconda3/envs/NLP/lib/python3.9/site-packages (1.1.2)\n",
      "Requirement already satisfied: pandas in /home/beast/miniconda3/envs/NLP/lib/python3.9/site-packages (from multiprocesspandas) (1.4.2)\n",
      "Requirement already satisfied: multiprocess==0.70.11.1 in /home/beast/miniconda3/envs/NLP/lib/python3.9/site-packages (from multiprocesspandas) (0.70.11.1)\n",
      "Requirement already satisfied: dill>=0.3.3 in /home/beast/miniconda3/envs/NLP/lib/python3.9/site-packages (from multiprocess==0.70.11.1->multiprocesspandas) (0.3.5.1)\n",
      "Requirement already satisfied: pytz>=2020.1 in /home/beast/miniconda3/envs/NLP/lib/python3.9/site-packages (from pandas->multiprocesspandas) (2022.1)\n",
      "Requirement already satisfied: python-dateutil>=2.8.1 in /home/beast/miniconda3/envs/NLP/lib/python3.9/site-packages (from pandas->multiprocesspandas) (2.8.2)\n",
      "Requirement already satisfied: numpy>=1.18.5 in /home/beast/miniconda3/envs/NLP/lib/python3.9/site-packages (from pandas->multiprocesspandas) (1.21.2)\n",
      "Requirement already satisfied: six>=1.5 in /home/beast/miniconda3/envs/NLP/lib/python3.9/site-packages (from python-dateutil>=2.8.1->pandas->multiprocesspandas) (1.16.0)\n"
     ]
    }
   ],
   "source": [
    "!pip install multiprocesspandas\n",
    "from multiprocesspandas import applyparallel\n"
   ]
  },
  {
   "cell_type": "markdown",
   "metadata": {},
   "source": [
    "#### Set num_processes <= number of cpu threads in your PC for getting the most speed out of it. My CPU has 6 cores, 12 threads, I set it to 10."
   ]
  },
  {
   "cell_type": "code",
   "execution_count": null,
   "metadata": {},
   "outputs": [],
   "source": [
    "# import numpy as np\n",
    "\n",
    "# train['audio'] = p_apply(train['path'], audiotonp)\n",
    "train['audio'] = train['path'].apply_parallel(audiotonp, num_processes=10)"
   ]
  },
  {
   "cell_type": "markdown",
   "metadata": {},
   "source": [
    "#### Save the output to Audio_tsv folder"
   ]
  },
  {
   "cell_type": "code",
   "execution_count": null,
   "metadata": {},
   "outputs": [],
   "source": [
    "train.to_csv('Audio_tsv/train.tsv', index= False)"
   ]
  },
  {
   "cell_type": "markdown",
   "metadata": {},
   "source": [
    "#### Repeat for validation and test sets"
   ]
  },
  {
   "cell_type": "code",
   "execution_count": null,
   "metadata": {},
   "outputs": [],
   "source": [
    "val['audio'] = val['path'].apply_parallel(audiotonp, num_processes=10)"
   ]
  },
  {
   "cell_type": "code",
   "execution_count": null,
   "metadata": {},
   "outputs": [],
   "source": [
    "val.to_csv('Audio_tsv/val.tsv', index= False)"
   ]
  },
  {
   "cell_type": "code",
   "execution_count": null,
   "metadata": {},
   "outputs": [],
   "source": [
    "test['audio'] = test['path'].apply_parallel(audiotonp, num_processes=10)"
   ]
  },
  {
   "cell_type": "code",
   "execution_count": null,
   "metadata": {},
   "outputs": [],
   "source": [
    "test.to_csv('Audio_tsv/test.tsv', index= False)"
   ]
  }
 ],
 "metadata": {
  "interpreter": {
   "hash": "1d6bb19db9f6479a27fdbf113b0686348fd251b7bd4b0b86a4868d0d2d84af38"
  },
  "kernelspec": {
   "display_name": "Python 3.9.7 ('NLP')",
   "language": "python",
   "name": "python3"
  },
  "language_info": {
   "codemirror_mode": {
    "name": "ipython",
    "version": 3
   },
   "file_extension": ".py",
   "mimetype": "text/x-python",
   "name": "python",
   "nbconvert_exporter": "python",
   "pygments_lexer": "ipython3",
   "version": "3.9.7"
  },
  "orig_nbformat": 4
 },
 "nbformat": 4,
 "nbformat_minor": 2
}
